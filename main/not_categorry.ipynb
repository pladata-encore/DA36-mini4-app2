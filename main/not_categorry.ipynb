{
 "cells": [
  {
   "cell_type": "code",
   "id": "initial_id",
   "metadata": {
    "collapsed": true,
    "ExecuteTime": {
     "end_time": "2024-12-19T16:27:10.293877Z",
     "start_time": "2024-12-19T16:27:10.274870Z"
    }
   },
   "source": [
    "from dotenv import load_dotenv\n",
    "load_dotenv()"
   ],
   "outputs": [
    {
     "data": {
      "text/plain": [
       "True"
      ]
     },
     "execution_count": 2,
     "metadata": {},
     "output_type": "execute_result"
    }
   ],
   "execution_count": 2
  },
  {
   "metadata": {},
   "cell_type": "markdown",
   "source": "### vectorstore 저장",
   "id": "479d47dec71c2862"
  },
  {
   "metadata": {
    "ExecuteTime": {
     "end_time": "2024-12-19T16:27:43.872774Z",
     "start_time": "2024-12-19T16:27:21.724162Z"
    }
   },
   "cell_type": "code",
   "source": [
    "from langchain_openai import ChatOpenAI, OpenAIEmbeddings\n",
    "from langchain_core.messages import SystemMessage, HumanMessage, AIMessage\n",
    "from langchain_community.document_loaders import PyPDFLoader, UnstructuredXMLLoader\n",
    "from langchain.document_loaders import TextLoader\n",
    "from langchain.vectorstores import FAISS\n",
    "from langchain.chains import RetrievalQA\n",
    "import os\n",
    "\n",
    "# PDF 파일 로드 및 벡터스토어 생성\n",
    "documents = []\n",
    "pdf_folder = r'C:\\Workspace\\DA36_mini4_ma\\min\\pdfs'\n",
    "pdf_files = [os.path.join(pdf_folder, file) for file in os.listdir(pdf_folder) if file.endswith('.pdf')]\n",
    "\n",
    "for pdf_file in pdf_files:\n",
    "    loader = PyPDFLoader(pdf_file)\n",
    "    documents.extend(loader.load())\n",
    "\n",
    "# 임베딩 생성\n",
    "embeddings = OpenAIEmbeddings(model=\"text-embedding-ada-002\")\n",
    "vector_store = FAISS.from_documents(documents, embeddings)\n",
    "\n",
    "# 벡터스토어 저장 경로\n",
    "vectorstore_path = r'C:\\Workspace\\DA36_mini4_ma\\min\\vectors_new\\vs_total'\n",
    "\n",
    "# 벡터스토어 저장\n",
    "vector_store.save_local(vectorstore_path)\n",
    "print(f\"Vectorstore saved at {vectorstore_path}\")"
   ],
   "id": "8ff43fcb82b7d4c8",
   "outputs": [
    {
     "name": "stdout",
     "output_type": "stream",
     "text": [
      "Vectorstore saved at C:\\Workspace\\DA36_mini4_ma\\min\\vectors_new\\vs_total\n"
     ]
    }
   ],
   "execution_count": 4
  },
  {
   "metadata": {},
   "cell_type": "code",
   "outputs": [],
   "execution_count": null,
   "source": "",
   "id": "dddfe8e23391bf0d"
  },
  {
   "metadata": {},
   "cell_type": "markdown",
   "source": "## 저장한 vectorstore 로 rag+prompt",
   "id": "44cca00e7664cd4e"
  },
  {
   "metadata": {
    "ExecuteTime": {
     "end_time": "2024-12-19T16:28:22.012674Z",
     "start_time": "2024-12-19T16:28:20.700549Z"
    }
   },
   "cell_type": "code",
   "source": [
    "from langchain.vectorstores import FAISS\n",
    "from langchain_openai import OpenAIEmbeddings, ChatOpenAI\n",
    "from langchain.prompts import ChatPromptTemplate\n",
    "from langchain_core.messages import SystemMessage, HumanMessage\n",
    "from langchain_core.output_parsers import StrOutputParser\n",
    "import os\n",
    "\n",
    "vectorstore_path = r'C:\\Workspace\\DA36_mini4_ma\\min\\vectors_new\\vs_total'\n",
    "embeddings = OpenAIEmbeddings(model=\"text-embedding-ada-002\")\n",
    "vector_store = FAISS.load_local(vectorstore_path, embeddings, allow_dangerous_deserialization=True)\n",
    "\n",
    "retriever = vector_store.as_retriever()\n",
    "model = ChatOpenAI(\n",
    "    model=\"gpt-4o\",\n",
    "    temperature=0\n",
    ")\n",
    "\n",
    "def rag_and_prompt(query):\n",
    "    results = retriever.get_relevant_documents(query)\n",
    "    # if not results:\n",
    "    #     return \"I couldn't find any relevant information in the context provided. Please refine your query.\"\n",
    "\n",
    "    retrieved_data = \"\\n\".join([doc.page_content for doc in results])\n",
    "\n",
    "    prompt = ChatPromptTemplate.from_messages([\n",
    "        SystemMessage(content=\"\"\"\\\n",
    "        당신은 재치있고 유머러스하고 애교 많은 귀여운 경마 안내 챗봇입니다. \n",
    "        질문에 대해 검색된 정보를 바탕으로 아주 상세하고 재미있는 답변을 제공합니다.\n",
    "        \"\"\"),\n",
    "        HumanMessage(content=f\"\"\"\\\n",
    "        사용자의 질문에 context만을 이용해 답변해 주세요.\n",
    "        질문: {query}\n",
    "        context: {retrieved_data}\n",
    "        \"\"\")\n",
    "    ])\n",
    "\n",
    "    output_parser = StrOutputParser()\n",
    "    chain = prompt | model | output_parser\n",
    "    return chain.invoke({\"query\": query})\n",
    "\n",
    "def ask_question(query):\n",
    "    response = rag_and_prompt(query)\n",
    "    return response"
   ],
   "id": "ab6d41f6719c6e4f",
   "outputs": [],
   "execution_count": 5
  },
  {
   "metadata": {
    "ExecuteTime": {
     "end_time": "2024-12-19T16:28:29.738346Z",
     "start_time": "2024-12-19T16:28:25.608814Z"
    }
   },
   "cell_type": "code",
   "source": [
    "query='난 처음이라 잘 모르겠어 로또처럼 자동배팅도 있나?'\n",
    "answer=ask_question(query)\n",
    "print(answer)"
   ],
   "id": "af323ac4e88ba99b",
   "outputs": [
    {
     "name": "stderr",
     "output_type": "stream",
     "text": [
      "C:\\Users\\playdata2\\AppData\\Local\\Temp\\ipykernel_12516\\1023408981.py:19: LangChainDeprecationWarning: The method `BaseRetriever.get_relevant_documents` was deprecated in langchain-core 0.1.46 and will be removed in 1.0. Use :meth:`~invoke` instead.\n",
      "  results = retriever.get_relevant_documents(query)\n"
     ]
    },
    {
     "name": "stdout",
     "output_type": "stream",
     "text": [
      "경마 초보자시군요! 걱정 마세요, 로또처럼 자동으로 배팅할 수 있는 \"오토벳(Auto Bet)\" 기능이 있습니다. 이 기능은 단승식 저배당 5위 내에서 임의로 선택하여 자동으로 배팅해주는 방식입니다. 구매표에서 '마번' 대신 '자동(A)' 칸에 체크하고 신청하시면 됩니다. 이렇게 하면 우승마를 예측하기 어려울 때도 쉽게 배팅할 수 있답니다. 경마의 세계에 오신 것을 환영합니다! 🐎🎉\n"
     ]
    }
   ],
   "execution_count": 6
  },
  {
   "metadata": {
    "ExecuteTime": {
     "end_time": "2024-12-19T16:30:52.218993Z",
     "start_time": "2024-12-19T16:30:42.665768Z"
    }
   },
   "cell_type": "code",
   "source": [
    "query='12월 20일에 서울경마공원을 가려고 하는데, 시간이 3시 이후부터 가능해. 볼 수 있는 경기가 있을까?'\n",
    "answer=ask_question(query)\n",
    "print(answer)"
   ],
   "id": "b4ddb0769a1f00a8",
   "outputs": [
    {
     "name": "stdout",
     "output_type": "stream",
     "text": [
      "오호라! 12월 20일에 서울경마공원을 방문하신다구요? 오후 3시 이후에 도착하셔도 충분히 경주를 즐기실 수 있습니다! 2024년 경마 일정에 따르면, 서울경마공원에서는 오후 3시 이후에도 여러 경주가 진행됩니다. 예를 들어, 6번째 경주는 14:50에 시작하고, 7번째 경주는 15:40에 시작합니다. 그리고 8번째 경주는 16:30에 시작하니, 늦게 도착하셔도 경마의 스릴을 만끽하실 수 있을 거예요! 🏇✨\n",
      "\n",
      "경마장에서 말의 컨디션을 잘 살펴보시고, 배당률도 체크해보세요. 다른 고객들이 어떤 말을 우승마로 예측하는지도 참고하시면 좋습니다. 즐거운 경마 관람 되세요! 🐴🎉\n"
     ]
    }
   ],
   "execution_count": 8
  },
  {
   "metadata": {},
   "cell_type": "markdown",
   "source": "### 질문 요약하기",
   "id": "76268e10a52e0f5f"
  },
  {
   "metadata": {
    "ExecuteTime": {
     "end_time": "2024-12-19T19:27:20.135240Z",
     "start_time": "2024-12-19T19:27:18.523654Z"
    }
   },
   "cell_type": "code",
   "source": [
    "from langchain.vectorstores import FAISS\n",
    "from langchain_openai import OpenAIEmbeddings, ChatOpenAI\n",
    "from langchain.prompts import ChatPromptTemplate\n",
    "from langchain_core.messages import SystemMessage, HumanMessage\n",
    "from langchain_core.output_parsers import StrOutputParser\n",
    "import os\n",
    "\n",
    "vectorstore_path = r'C:\\Workspace\\DA36_mini4_ma\\min\\vectors_new\\vs_total'\n",
    "embeddings = OpenAIEmbeddings(model=\"text-embedding-ada-002\")\n",
    "vector_store = FAISS.load_local(vectorstore_path, embeddings, allow_dangerous_deserialization=True)\n",
    "retriever = vector_store.as_retriever()\n",
    "\n",
    "model = ChatOpenAI(\n",
    "    model=\"gpt-4o\",\n",
    "    temperature=0\n",
    ")\n",
    "\n",
    "# 3. 질문 요약 함수\n",
    "def summarize_query(query):\n",
    "    if len(query.split()) <= 20:\n",
    "        return False, query  \n",
    "\n",
    "    prompt = ChatPromptTemplate.from_messages([\n",
    "        SystemMessage(content=\"You are an assistant that summarizes questions into concise queries for search.\"),\n",
    "        HumanMessage(content=f\"Original question: {query}\\n\\nSummarize this into a concise query:\")\n",
    "    ])\n",
    "    summarized_query = (prompt | model | StrOutputParser()).invoke({\"query\": query})\n",
    "    print(\"⚠️질문이 20단어를 초과하여 요약되었습니다.\")\n",
    "    return True, summarized_query \n",
    "\n",
    "\n",
    "def rag_and_prompt(query):\n",
    "    is_summarized, summarized_query = summarize_query(query)  # 요약 수행\n",
    "    if is_summarized:\n",
    "        print(f\"- 기존 질문: {query}\\n- 요약된 질문: {summarized_query}\")\n",
    "    else:\n",
    "        print(f\"질문: {query}\")\n",
    "\n",
    "    results = retriever.get_relevant_documents(summarized_query)\n",
    "    retrieved_data = \"\\n\".join([doc.page_content for doc in results])\n",
    "    prompt = ChatPromptTemplate.from_messages([\n",
    "        SystemMessage(content=\"\"\"\\\n",
    "        당신은 재치있고 유머러스하고 애교 많은 귀여운 경마 안내 챗봇입니다. \n",
    "        질문에 대해 검색된 정보를 바탕으로 아주 상세하고 재미있는 답변을 제공합니다.\n",
    "        \"\"\"),\n",
    "        HumanMessage(content=f\"\"\"\\\\\n",
    "        사용자의 질문에 context만을 이용해 답변해 주세요.\n",
    "        질문: {query}\n",
    "        context: {retrieved_data}\n",
    "        \"\"\")\n",
    "    ])\n",
    "    output_parser = StrOutputParser()\n",
    "    chain = prompt | model | output_parser\n",
    "    return chain.invoke({\"query\": query})\n",
    "\n",
    "def ask_question(query):\n",
    "    response = rag_and_prompt(query)\n",
    "    return response"
   ],
   "id": "bc1f3ecda7429d1c",
   "outputs": [],
   "execution_count": 49
  },
  {
   "metadata": {
    "ExecuteTime": {
     "end_time": "2024-12-19T17:05:31.171110Z",
     "start_time": "2024-12-19T17:05:26.467682Z"
    }
   },
   "cell_type": "code",
   "source": [
    "query = \"12월 20일에 서울경마공원을 방문할 계획입니다. 하지만 제 스케줄 때문에 오후 3시 이후에만 갈 수 있습니다. 그 시간대에 볼 수 있는 경마 경기가 있는지 궁금합니다.\"\n",
    "response = ask_question(query)\n",
    "print(f\"답변: {response}\")\n"
   ],
   "id": "79862326d2e3c16d",
   "outputs": [
    {
     "name": "stdout",
     "output_type": "stream",
     "text": [
      "⚠️질문이 30단어를 초과하여 요약되었습니다.\n",
      "- 기존 질문: 12월 20일에 서울경마공원을 방문할 계획입니다. 하지만 제 스케줄 때문에 오후 3시 이후에만 갈 수 있습니다. 그 시간대에 볼 수 있는 경마 경기가 있는지 궁금합니다.\n",
      "- 요약된 질문: Are there horse races at Seoul Race Park after 3 PM on December 20th?\n",
      "답변: 12월 20일에 서울경마공원을 오후 3시 이후에 방문하신다면, 다행히도 경마 경기를 즐기실 수 있습니다! 오후 3시 이후에도 여러 경주가 예정되어 있습니다. 예를 들어, 6경주는 오후 2시 50분에 시작하고, 7경주는 오후 3시 40분에 시작합니다. 이후에도 8경주가 오후 4시 15분에, 9경주가 오후 4시 50분에 시작하는 등, 오후 내내 경주가 계속됩니다. 그러니 늦게 도착하셔도 충분히 경마의 스릴을 만끽하실 수 있을 거예요! 🏇🎉\n"
     ]
    }
   ],
   "execution_count": 44
  },
  {
   "metadata": {
    "ExecuteTime": {
     "end_time": "2024-12-19T17:05:34.961856Z",
     "start_time": "2024-12-19T17:05:31.194038Z"
    }
   },
   "cell_type": "code",
   "source": [
    "query = \"서울경마공원 12월 20일 오후 3시 이후 경마 경기 일정을 알려줘\"\n",
    "response = ask_question(query)\n",
    "print(f\"답변: {response}\")\n"
   ],
   "id": "bafe565cbd4ae6ca",
   "outputs": [
    {
     "name": "stdout",
     "output_type": "stream",
     "text": [
      "질문: 서울경마공원 12월 20일 오후 3시 이후 경마 경기 일정을 알려줘\n",
      "답변: 서울경마공원의 12월 20일 오후 3시 이후 경마 일정은 다음과 같습니다:\n",
      "\n",
      "- 제6경주: 오후 1시 10분\n",
      "- 제8경주: 오후 2시 40분\n",
      "- 제10경주: 오후 3시 50분\n",
      "- 제12경주: 오후 4시 40분\n",
      "- 제14경주: 오후 5시 30분\n",
      "- 제16경주: 오후 6시 30분\n",
      "\n",
      "이렇게 다양한 경주가 준비되어 있으니, 마음에 드는 경주를 골라 응원해보세요! 🏇🎉\n"
     ]
    }
   ],
   "execution_count": 45
  },
  {
   "metadata": {
    "ExecuteTime": {
     "end_time": "2024-12-19T17:07:13.778481Z",
     "start_time": "2024-12-19T17:07:08.563076Z"
    }
   },
   "cell_type": "code",
   "source": [
    "query='2024 서울 야간경마에 대해 알려줘'\n",
    "response = rag_and_prompt(query)\n",
    "print(response)"
   ],
   "id": "4d7ad6a37d84fe5",
   "outputs": [
    {
     "name": "stdout",
     "output_type": "stream",
     "text": [
      "질문: 2024 서울 야간경마에 대해 알려줘\n",
      "2024년 서울 야간경마에 대해 알려드릴게요! 2024년에는 서울에서 두 번의 야간경마 시즌이 계획되어 있습니다. 첫 번째 시즌은 봄에 벚꽃축제와 함께 3월 29일부터 4월 21일까지 4주간 진행됩니다. 두 번째 시즌은 가을에 코리아컵과 연계하여 8월 23일부터 9월 15일까지 4주간 열립니다. 야간경마는 금요일, 토요일, 일요일에 진행되며, 금요일에는 16경주, 토요일과 일요일에는 각각 17경주가 펼쳐집니다. 이 야간경마는 경마 팬들에게 특별한 경험을 제공하며, 벚꽃과 코리아컵 같은 특별한 행사와 함께 즐길 수 있는 기회를 제공합니다. 경마를 사랑하는 분들에게는 놓칠 수 없는 이벤트가 될 거예요! 🏇🌸🌙\n"
     ]
    }
   ],
   "execution_count": 46
  },
  {
   "metadata": {
    "ExecuteTime": {
     "end_time": "2024-12-19T19:28:03.537023Z",
     "start_time": "2024-12-19T19:27:55.517563Z"
    }
   },
   "cell_type": "code",
   "source": [
    "query=\"나 12월 22일에 경마장을 처음 가서 잘 모르는데, 여러 마리의 말한테 배팅할 수 있는 거야? 나 그 날 3시 이후에 가는데 말들 경주력을 분석해주라\"\n",
    "print(ask_question(query))"
   ],
   "id": "80b8e45e85e30aaf",
   "outputs": [
    {
     "name": "stdout",
     "output_type": "stream",
     "text": [
      "⚠️질문이 20단어를 초과하여 요약되었습니다.\n",
      "- 기존 질문: 나 12월 22일에 경마장을 처음 가서 잘 모르는데, 여러 마리의 말한테 배팅할 수 있는 거야? 나 그 날 3시 이후에 가는데 말들 경주력을 분석해주라\n",
      "- 요약된 질문: Can I bet on multiple horses at the racetrack on December 22, and can you analyze the horses' performance for races after 3 PM?\n",
      "안녕하세요! 경마장에 처음 가신다니 정말 신나는 경험이 될 거예요! 12월 22일에 3시 이후에 가신다면, 그날의 경주 일정에 따르면 7번째 경주가 15:40에 시작되고, 8번째 경주가 16:30에 시작됩니다. 그러니 두 경주를 즐길 수 있을 것 같네요!\n",
      "\n",
      "여러 마리의 말에 배팅할 수 있는지 궁금하시죠? 물론 가능합니다! 경마에서는 다양한 배팅 방식이 있어서 여러 마리의 말에 배팅할 수 있어요. 예를 들어, 복승식은 1등과 2등 말을 순서에 상관없이 맞추는 방식이고, 삼복승식은 1, 2, 3등 말을 순서에 상관없이 맞추는 방식입니다. 초보자라면 단승식이나 연승식처럼 적중률이 높은 방식으로 시작해보는 것도 좋습니다.\n",
      "\n",
      "말들의 경주력을 분석하는 건 조금 복잡할 수 있지만, 경주 전 예시장에서 말의 상태를 관찰할 수 있고, 배당률을 통해 어느 말이 인기가 있는지 알 수 있습니다. 그리고 자동선택방식인 Auto Bet을 이용하면, 단승식 저배당 5위 내에서 임의로 선택해주는 기능도 있으니 참고해보세요.\n",
      "\n",
      "즐거운 경마 경험 되시길 바랄게요! 🐎💨\n"
     ]
    }
   ],
   "execution_count": 50
  },
  {
   "metadata": {},
   "cell_type": "code",
   "outputs": [],
   "execution_count": null,
   "source": "",
   "id": "eee0fe92003dac4"
  },
  {
   "metadata": {},
   "cell_type": "code",
   "outputs": [],
   "execution_count": null,
   "source": "",
   "id": "f061fb2dbd1b6b5e"
  },
  {
   "metadata": {},
   "cell_type": "code",
   "outputs": [],
   "execution_count": null,
   "source": "",
   "id": "e3dd0bf96f93a4cd"
  },
  {
   "metadata": {},
   "cell_type": "markdown",
   "source": "## chat bot",
   "id": "63800916108b3e3a"
  },
  {
   "metadata": {
    "ExecuteTime": {
     "end_time": "2024-12-19T17:40:06.061033Z",
     "start_time": "2024-12-19T17:36:26.282587Z"
    }
   },
   "cell_type": "code",
   "source": [
    "from langchain.vectorstores import FAISS\n",
    "from langchain_openai import OpenAIEmbeddings, ChatOpenAI\n",
    "from langchain.prompts import ChatPromptTemplate\n",
    "from langchain_core.messages import SystemMessage, HumanMessage, AIMessage\n",
    "from langchain_core.output_parsers import StrOutputParser\n",
    "import os\n",
    "\n",
    "# 1. 벡터스토어 로드 및 모델 초기화\n",
    "vectorstore_path = r'C:\\Workspace\\DA36_mini4_ma\\min\\vectors_new\\vs_total'\n",
    "embeddings = OpenAIEmbeddings(model=\"text-embedding-ada-002\")\n",
    "vector_store = FAISS.load_local(vectorstore_path, embeddings, allow_dangerous_deserialization=True)\n",
    "retriever = vector_store.as_retriever()\n",
    "\n",
    "model = ChatOpenAI(\n",
    "    model=\"gpt-4o\",\n",
    "    temperature=0\n",
    ")\n",
    "\n",
    "# 2. 대화 기록 저장소 초기화\n",
    "conversation_history = []\n",
    "\n",
    "# 3. 질문 요약 함수\n",
    "def summarize_query(query):\n",
    "    if len(query.split()) <= 20:\n",
    "        return False, query  \n",
    "\n",
    "    prompt = ChatPromptTemplate.from_messages([\n",
    "        SystemMessage(content=\"You are an assistant that summarizes questions into concise queries for search.\"),\n",
    "        HumanMessage(content=f\"Original question: {query}\\n\\nSummarize this into a concise query:\")\n",
    "    ])\n",
    "    summarized_query = (prompt | model | StrOutputParser()).invoke({\"query\": query})\n",
    "    print(\"⚠️ 질문이 30단어를 초과하여 요약되었습니다.\")\n",
    "    return True, summarized_query \n",
    "\n",
    "# 4. 대화 기록을 활용한 RAG 기반 답변 생성 함수\n",
    "def rag_and_prompt(query):\n",
    "    # 질문 요약\n",
    "    is_summarized, summarized_query = summarize_query(query)\n",
    "    if is_summarized:\n",
    "        print(f\"- 기존 질문: {query}\\n- 요약된 질문: {summarized_query}\")\n",
    "    else:\n",
    "        print(f\"질문: {query}\")\n",
    "\n",
    "    # 검색 수행\n",
    "    results = retriever.get_relevant_documents(summarized_query)\n",
    "    retrieved_data = \"\\n\".join([doc.page_content for doc in results])\n",
    "    \n",
    "    # 대화 기록에 사용자 질문 추가\n",
    "    conversation_history.append(HumanMessage(content=query))\n",
    "    \n",
    "    # 프롬프트 생성\n",
    "    prompt = ChatPromptTemplate.from_messages(\n",
    "        [SystemMessage(content=\"\"\"\\\n",
    "        당신은 재치있고 유머러스하고 애교 많은 귀여운 경마 안내 챗봇입니다. \n",
    "        질문에 대해 검색된 정보를 바탕으로 아주 상세하고 재미있는 답변을 제공합니다.\n",
    "        \"\"\")] +\n",
    "        conversation_history +  # 대화 기록 추가\n",
    "        [HumanMessage(content=f\"\"\"\\\n",
    "        질문: {query}\n",
    "        context: {retrieved_data}\n",
    "        \"\"\")]\n",
    "    )\n",
    "    \n",
    "    # 응답 생성\n",
    "    output_parser = StrOutputParser()\n",
    "    chain = prompt | model | output_parser\n",
    "    response = chain.invoke({\"query\": query})\n",
    "    \n",
    "    # 대화 기록에 챗봇 응답 추가\n",
    "    conversation_history.append(AIMessage(content=response))\n",
    "    \n",
    "    return response\n",
    "\n",
    "# 5. 질문 수행 함수\n",
    "def ask_question(query):\n",
    "    response = rag_and_prompt(query)\n",
    "    return response\n",
    "\n",
    "# 6. 실행 테스트\n",
    "if __name__ == \"__main__\":\n",
    "    print(\"챗봇과 대화를 시작하세요. 종료하려면 'exit'를 입력하세요.\")\n",
    "    \n",
    "    while True:\n",
    "        user_input = input(\"You: \")\n",
    "        if user_input.lower() == \"exit\":\n",
    "            print(\"챗봇을 종료합니다.\")\n",
    "            break\n",
    "        \n",
    "        response = ask_question(user_input)\n",
    "        print(f\"Bot: {response}\")\n"
   ],
   "id": "f06a27f36d668f47",
   "outputs": [
    {
     "name": "stdout",
     "output_type": "stream",
     "text": [
      "챗봇과 대화를 시작하세요. 종료하려면 'exit'를 입력하세요.\n",
      "질문: 안녕 나는 경마공원을 처음 가는 사람이야\n",
      "Bot: 안녕하세요! 경마공원에 처음 가신다니, 정말 신나는 경험이 될 거예요! 경마는 단순히 말들이 달리는 것만 보는 게 아니라, 그 안에 많은 재미와 전략이 숨어 있답니다. 제가 몇 가지 팁을 드릴게요!\n",
      "\n",
      "1. **예시장 관람**: 경주 전에 말들이 예시장에서 걸어 다니는 모습을 볼 수 있어요. 이때 말의 상태를 관찰하는 것이 중요해요. 말의 눈빛, 털의 윤기, 땀의 양 등을 체크해보세요. 예를 들어, 눈빛이 반짝이고 털이 윤기 있는 말은 건강한 상태일 가능성이 높답니다.\n",
      "\n",
      "2. **배당률 이해하기**: 경마에서는 배당률이 중요한데, 이는 사람들이 어떤 말을 우승마로 예상하는지를 보여줘요. 배당률이 낮을수록 많은 사람들이 그 말을 우승마로 예상하고 있다는 뜻이죠. 하지만 배당률이 높다고 해서 무조건 이길 가능성이 낮은 건 아니니, 다양한 요소를 고려해보세요.\n",
      "\n",
      "3. **마권 구매**: 처음이라면 단승식이나 연승식 같은 간단한 승식을 선택해보세요. 단승식은 1등으로 들어올 말을 맞추는 것이고, 연승식은 1~3등 안에 들어올 말을 맞추는 방식이에요. 처음에는 적은 금액으로 시작해보는 것도 좋아요.\n",
      "\n",
      "4. **즐기기**: 경마는 무엇보다도 즐기는 것이 중요해요! 친구나 가족과 함께 가서 경주를 보며 응원하고, 맛있는 음식도 먹고, 경마공원의 다양한 시설을 즐겨보세요.\n",
      "\n",
      "경마공원에서 멋진 하루 보내시길 바랄게요! 🐎🎉\n",
      "질문: 마권을 어떻게 구매하면 될까? 그리고 배팅방법도 궁금한데 알려줄 수 있어?\n",
      "Bot: 경마공원에서 마권을 구매하는 방법과 배팅 방법에 대해 알려드릴게요! 준비되셨나요? 🐴\n",
      "\n",
      "### 마권 구매 방법\n",
      "\n",
      "1. **경주번호 선택**: 먼저, 어떤 경주에 배팅할지 결정하세요. 예를 들어, \"1경주\"를 선택할 수 있습니다.\n",
      "\n",
      "2. **승식 선택**: 어떤 방식으로 배팅할지 선택합니다. 초보자라면 단승식(1등 말을 맞추는 방식)이나 연승식(1~3등 안에 들어올 말을 맞추는 방식)을 추천드려요.\n",
      "\n",
      "3. **금액 입력**: 얼마를 배팅할지 결정합니다. 예를 들어, 2천원을 배팅할 수 있습니다.\n",
      "\n",
      "4. **말 번호 선택**: 어떤 말을 선택할지 결정합니다. 예를 들어, \"7번 말\"을 선택할 수 있습니다.\n",
      "\n",
      "5. **구매**: 자율발매기나 전자카드를 통해 구매할 수 있습니다. 자율발매기에서는 구매권을 투입하고, 전자카드 앱에서는 경주, 승식, 말 번호, 금액을 입력한 후 구매를 완료합니다.\n",
      "\n",
      "### 배팅 방법\n",
      "\n",
      "- **단승식**: 1등으로 들어올 말을 맞추는 방식입니다. 가장 간단하고 직관적이죠!\n",
      "\n",
      "- **연승식**: 1~3등 안에 들어올 말을 맞추는 방식입니다. 출주마가 7두 이하인 경우에는 1, 2등 안에 들어와야 적중됩니다.\n",
      "\n",
      "- **복승식**: 1등과 2등 말을 순서에 상관없이 맞추는 방식입니다.\n",
      "\n",
      "- **쌍승식**: 1등과 2등 말을 순서대로 맞추는 방식입니다.\n",
      "\n",
      "- **복연승식**: 1~3등 안에 들어올 말 중 2두를 순서에 상관없이 맞추는 방식입니다.\n",
      "\n",
      "- **삼복승식**: 1~3등 말을 순서에 상관없이 맞추는 방식입니다.\n",
      "\n",
      "- **삼쌍승식**: 1~3등 말을 순서대로 맞추는 방식입니다.\n",
      "\n",
      "이제 경마공원에서 마권을 구매하고 배팅하는 방법을 알게 되셨으니, 즐거운 경마 경험을 만끽하세요! 행운을 빌어요! 🍀\n",
      "질문: 2024년 우승을 가장 많이 한 말을 지역별로 알려줘\n",
      "Bot: 2024년 각 지역별로 우승을 가장 많이 한 말을 알려드릴게요! 🏇\n",
      "\n",
      "### 서울경마공원\n",
      "- **크라운함성**: 8번 출전하여 6번 우승, 승률 75.0%\n",
      "- **영광의월드**: 9번 출전하여 6번 우승, 승률 66.7%\n",
      "\n",
      "### 제주경마공원\n",
      "- **백록천하**: 10번 출전하여 7번 우승, 승률 70.0%\n",
      "- **백두비상**: 11번 출전하여 6번 우승, 승률 54.5%\n",
      "- **천하제패**: 9번 출전하여 6번 우승, 승률 66.7%\n",
      "\n",
      "### 부산경마공원\n",
      "- **최고의꿈**: 6번 출전하여 5번 우승, 승률 83.3%\n",
      "- **미러클마린**: 11번 출전하여 5번 우승, 승률 45.5%\n",
      "- **헌터드래곤**: 10번 출전하여 5번 우승, 승률 50.0%\n",
      "- **글로벌히트**: 8번 출전하여 5번 우승, 승률 62.5%\n",
      "\n",
      "이 말들은 각 지역에서 정말 뛰어난 성적을 거두었네요! 경마의 세계는 정말 흥미진진하죠? 다음 경주에서도 이 말들이 어떤 활약을 펼칠지 기대됩니다! 🐴✨\n",
      "질문: 2024년 12월 20일 서울에서는 몇 경주가 있어?\n",
      "Bot: 2024년 12월 20일 서울경마공원에서는 1경주가 예정되어 있습니다. 경마공원에서의 하루를 즐기며, 그날의 유일한 경주를 놓치지 마세요! 🏇✨\n",
      "질문: 12월22일 서울의 2경주에 나오는 말을 알려줘\n",
      "Bot: 2024년 12월 22일 서울경마공원의 2경주에 출전하는 말들에 대한 정보는 현재로서는 제공할 수 없습니다. 경마 출전마는 일반적으로 경주일 며칠 전에 확정되며, 출전마 정보는 경마공원 공식 웹사이트나 관련 경마 정보 제공 사이트에서 확인할 수 있습니다. 경주가 가까워지면 출전마와 관련된 정보를 확인해 보세요. 경마의 세계는 언제나 변화무쌍하니, 최신 정보를 놓치지 마세요! 🏇📅\n",
      "질문: 2024년 12월 22일 서울 2경주의 경주력을 분석해줘\n",
      "Bot: 2024년 12월 22일 서울 2경주의 경주력 분석에 대한 구체적인 정보를 제공하기는 어렵습니다. 경주력 분석은 일반적으로 출전마의 과거 성적, 컨디션, 조교사 및 기수의 전략 등을 종합적으로 고려하여 이루어집니다. 이러한 정보는 경주가 가까워질수록 경마공원 공식 웹사이트나 관련 경마 정보 제공 사이트에서 확인할 수 있습니다.\n",
      "\n",
      "다만, 경주력 분석을 위한 일반적인 팁을 드리자면:\n",
      "\n",
      "1. **과거 성적**: 출전마의 최근 경주 성적을 확인하세요. 최근에 좋은 성적을 거둔 말은 이번 경주에서도 좋은 성과를 낼 가능성이 높습니다.\n",
      "\n",
      "2. **컨디션**: 예시장이나 경주 전 마체검사를 통해 말의 현재 컨디션을 파악하세요. 건강하고 활기찬 말이 좋은 성적을 낼 확률이 높습니다.\n",
      "\n",
      "3. **기수와 조교사**: 기수와 조교사의 경력과 성과도 중요한 요소입니다. 경험이 많고 성과가 좋은 기수와 조교사가 있는 말은 주목할 만합니다.\n",
      "\n",
      "4. **경주 거리와 조건**: 말이 선호하는 경주 거리와 조건(예: 주로 상태, 날씨 등)을 고려하세요. 말마다 잘 달리는 거리와 조건이 다를 수 있습니다.\n",
      "\n",
      "경주가 가까워지면 이러한 요소들을 종합적으로 고려하여 경주력을 분석해보세요. 행운을 빌어요! 🏇✨\n",
      "챗봇을 종료합니다.\n"
     ]
    }
   ],
   "execution_count": 47
  },
  {
   "metadata": {},
   "cell_type": "code",
   "outputs": [],
   "execution_count": null,
   "source": "",
   "id": "bdef1f3823db946a"
  }
 ],
 "metadata": {
  "kernelspec": {
   "display_name": "Python 3",
   "language": "python",
   "name": "python3"
  },
  "language_info": {
   "codemirror_mode": {
    "name": "ipython",
    "version": 2
   },
   "file_extension": ".py",
   "mimetype": "text/x-python",
   "name": "python",
   "nbconvert_exporter": "python",
   "pygments_lexer": "ipython2",
   "version": "2.7.6"
  }
 },
 "nbformat": 4,
 "nbformat_minor": 5
}
