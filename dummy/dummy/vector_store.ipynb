{
 "cells": [
  {
   "cell_type": "code",
   "id": "initial_id",
   "metadata": {
    "collapsed": true,
    "ExecuteTime": {
     "end_time": "2024-12-19T14:55:20.817159Z",
     "start_time": "2024-12-19T14:55:20.801770Z"
    }
   },
   "source": [
    "from dotenv import load_dotenv\n",
    "load_dotenv()"
   ],
   "outputs": [
    {
     "data": {
      "text/plain": [
       "True"
      ]
     },
     "execution_count": 1,
     "metadata": {},
     "output_type": "execute_result"
    }
   ],
   "execution_count": 1
  },
  {
   "metadata": {
    "ExecuteTime": {
     "end_time": "2024-12-19T09:36:28.518032Z",
     "start_time": "2024-12-19T09:32:05.652687Z"
    }
   },
   "cell_type": "code",
   "source": [
    "import os\n",
    "from langchain.vectorstores import FAISS\n",
    "from langchain.embeddings import OpenAIEmbeddings\n",
    "from langchain_community.document_loaders import PyPDFLoader\n",
    "\n",
    "pdf_folder = 'C:/Workspace/DA36_mini4/min/pdfs'\n",
    "vectorstore_folder = 'C:/Workspace/DA36_mini4/min/vectorstores'\n",
    "\n",
    "embeddings = OpenAIEmbeddings(model=\"text-embedding-ada-002\")\n",
    "\n",
    "print(\"Processing all files for vs_all\")\n",
    "all_files = [os.path.join(pdf_folder, file) for file in os.listdir(pdf_folder) if file.endswith('.pdf')]\n",
    "\n",
    "all_documents = []\n",
    "for pdf_file in all_files:\n",
    "    loader = PyPDFLoader(pdf_file)\n",
    "    all_documents.extend(loader.load()) \n",
    "\n",
    "all_vector_store = FAISS.from_documents(all_documents, embeddings)\n",
    "\n",
    "all_vectorstore_path = os.path.join(vectorstore_folder, 'vs_all')\n",
    "os.makedirs(all_vectorstore_path, exist_ok=True)  # 디렉토리 생성\n",
    "all_vector_store.save_local(all_vectorstore_path)\n",
    "\n",
    "print(\"vs_all 벡터스토어 생성 완료!\")\n",
    "\n",
    "category_to_files = {\n",
    "    '경마방법': ['race_guide.pdf', 'odds.pdf', 'winning_horse.pdf'],\n",
    "    '경기스케쥴': ['202412_seoul.pdf', 'day_info.pdf'],\n",
    "    '우승마기록': ['top50_2024.pdf'],\n",
    "    '2024시행계획': ['race_plan2024.pdf'], \n",
    "}\n",
    "\n",
    "# 카테고리와 영어 약어 매핑\n",
    "category_to_abbreviation = {\n",
    "    '경마방법': 'guide',\n",
    "    '경기스케쥴': 'schedule',\n",
    "    '우승마기록': 'winners',\n",
    "    '2024시행계획': 'plan2024',\n",
    "}\n",
    "\n",
    "for category, files in category_to_files.items():\n",
    "    print(f\"Processing category: {category}\")\n",
    "    \n",
    "    pdf_files = [os.path.join(pdf_folder, file) for file in files]\n",
    "\n",
    "    # 문서 로드\n",
    "    documents = []\n",
    "    for pdf_file in pdf_files:\n",
    "        loader = PyPDFLoader(pdf_file)\n",
    "        documents.extend(loader.load())  # 문서 추가\n",
    "\n",
    "    # 벡터스토어 생성\n",
    "    vector_store = FAISS.from_documents(documents, embeddings)\n",
    "\n",
    "    # 벡터스토어 이름 \n",
    "    abbreviation = category_to_abbreviation.get(category, 'other') \n",
    "    vectorstore_name = f\"vs_{abbreviation}\"\n",
    "\n",
    "    # 카테고리별 벡터스토어 저장 경로\n",
    "    category_path = os.path.join(vectorstore_folder, vectorstore_name)\n",
    "    os.makedirs(category_path, exist_ok=True) \n",
    "    vector_store.save_local(category_path)\n",
    "\n",
    "print(\"카테고리별 벡터스토어 생성 완료!\")"
   ],
   "id": "c61b59a481f020e",
   "outputs": [
    {
     "name": "stdout",
     "output_type": "stream",
     "text": [
      "Processing all files for vs_all\n",
      "vs_all 벡터스토어 생성 완료!\n",
      "Processing category: 경마방법\n",
      "Processing category: 경기스케쥴\n",
      "Processing category: 우승마기록\n",
      "Processing category: 2024시행계획\n",
      "카테고리별 벡터스토어 생성 완료!\n"
     ]
    }
   ],
   "execution_count": 14
  },
  {
   "metadata": {},
   "cell_type": "code",
   "outputs": [],
   "execution_count": null,
   "source": "",
   "id": "fea64ab2e45c14f8"
  }
 ],
 "metadata": {
  "kernelspec": {
   "display_name": "Python 3",
   "language": "python",
   "name": "python3"
  },
  "language_info": {
   "codemirror_mode": {
    "name": "ipython",
    "version": 2
   },
   "file_extension": ".py",
   "mimetype": "text/x-python",
   "name": "python",
   "nbconvert_exporter": "python",
   "pygments_lexer": "ipython2",
   "version": "2.7.6"
  }
 },
 "nbformat": 4,
 "nbformat_minor": 5
}
