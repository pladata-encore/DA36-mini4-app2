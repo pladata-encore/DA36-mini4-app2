{
 "cells": [
  {
   "cell_type": "code",
   "id": "initial_id",
   "metadata": {
    "collapsed": true,
    "ExecuteTime": {
     "end_time": "2024-12-19T17:09:11.349254Z",
     "start_time": "2024-12-19T17:09:11.318253Z"
    }
   },
   "source": [
    "from dotenv import load_dotenv\n",
    "load_dotenv()"
   ],
   "outputs": [
    {
     "data": {
      "text/plain": [
       "True"
      ]
     },
     "execution_count": 1,
     "metadata": {},
     "output_type": "execute_result"
    }
   ],
   "execution_count": 1
  },
  {
   "metadata": {},
   "cell_type": "markdown",
   "source": "## Category별 VectorStore 생성",
   "id": "64c165cc6d6e40a8"
  },
  {
   "metadata": {},
   "cell_type": "markdown",
   "source": "### horse_info",
   "id": "2e762586e6b98ef3"
  },
  {
   "metadata": {
    "ExecuteTime": {
     "end_time": "2024-12-19T17:58:42.267716Z",
     "start_time": "2024-12-19T17:58:38.708202Z"
    }
   },
   "cell_type": "code",
   "source": [
    "from langchain_openai import ChatOpenAI, OpenAIEmbeddings\n",
    "from langchain_core.messages import SystemMessage, HumanMessage, AIMessage\n",
    "from langchain_community.document_loaders import PyPDFLoader, UnstructuredXMLLoader\n",
    "from langchain.document_loaders import TextLoader\n",
    "from langchain.vectorstores import FAISS\n",
    "from langchain.chains import RetrievalQA\n",
    "import os\n",
    "\n",
    "# PDF 파일 로드 및 벡터스토어 생성\n",
    "documents = []\n",
    "pdf_folder = r'C:\\Workspace\\DA36_mini4_ma\\min\\pdfs\\horse_info'\n",
    "pdf_files = [os.path.join(pdf_folder, file) for file in os.listdir(pdf_folder) if file.endswith('.pdf')]\n",
    "\n",
    "for pdf_file in pdf_files:\n",
    "    loader = PyPDFLoader(pdf_file)\n",
    "    documents.extend(loader.load())\n",
    "\n",
    "# 임베딩 생성\n",
    "embeddings = OpenAIEmbeddings(model=\"text-embedding-ada-002\")\n",
    "vector_store = FAISS.from_documents(documents, embeddings)\n",
    "\n",
    "# 벡터스토어 저장 경로\n",
    "vectorstore_path = r'C:\\Workspace\\DA36_mini4_ma\\min\\vectors_new\\vs_horse_info'\n",
    "\n",
    "# 벡터스토어 저장\n",
    "vector_store.save_local(vectorstore_path)\n",
    "print(f\"Vectorstore saved at {vectorstore_path}\")"
   ],
   "id": "70f3b36797d015d8",
   "outputs": [
    {
     "name": "stdout",
     "output_type": "stream",
     "text": [
      "Vectorstore saved at C:\\Workspace\\DA36_mini4_ma\\min\\vectors_new\\vs_horse_info\n"
     ]
    }
   ],
   "execution_count": 21
  },
  {
   "metadata": {},
   "cell_type": "markdown",
   "source": "### race_schedule",
   "id": "5b70555682559aed"
  },
  {
   "metadata": {
    "ExecuteTime": {
     "end_time": "2024-12-19T18:21:59.055294Z",
     "start_time": "2024-12-19T18:20:55.233701Z"
    }
   },
   "cell_type": "code",
   "source": [
    "from langchain_openai import ChatOpenAI, OpenAIEmbeddings\n",
    "from langchain_core.messages import SystemMessage, HumanMessage, AIMessage\n",
    "from langchain_community.document_loaders import PyPDFLoader, UnstructuredXMLLoader\n",
    "from langchain.document_loaders import TextLoader\n",
    "from langchain.vectorstores import FAISS\n",
    "from langchain.chains import RetrievalQA\n",
    "import os\n",
    "\n",
    "# PDF 파일 로드 및 벡터스토어 생성\n",
    "documents = []\n",
    "pdf_folder = r'C:\\Workspace\\DA36_mini4_ma\\min\\pdfs\\race_day'\n",
    "pdf_files = [os.path.join(pdf_folder, file) for file in os.listdir(pdf_folder) if file.endswith('.pdf')]\n",
    "\n",
    "for pdf_file in pdf_files:\n",
    "    loader = PyPDFLoader(pdf_file)\n",
    "    documents.extend(loader.load())\n",
    "\n",
    "# 임베딩 생성\n",
    "embeddings = OpenAIEmbeddings(model=\"text-embedding-ada-002\")\n",
    "vector_store = FAISS.from_documents(documents, embeddings)\n",
    "\n",
    "# 벡터스토어 저장 경로\n",
    "vectorstore_path = r'C:\\Workspace\\DA36_mini4_ma\\min\\vectors_new\\vs_race_schedule'\n",
    "\n",
    "# 벡터스토어 저장\n",
    "vector_store.save_local(vectorstore_path)\n",
    "print(f\"Vectorstore saved at {vectorstore_path}\")"
   ],
   "id": "c9cc36c75c012733",
   "outputs": [
    {
     "name": "stdout",
     "output_type": "stream",
     "text": [
      "Vectorstore saved at C:\\Workspace\\DA36_mini4_ma\\min\\vectors_new\\vs_race_schedule\n"
     ]
    }
   ],
   "execution_count": 49
  },
  {
   "metadata": {},
   "cell_type": "markdown",
   "source": "### race_guide",
   "id": "f0163359acf2f70"
  },
  {
   "metadata": {
    "ExecuteTime": {
     "end_time": "2024-12-19T17:33:58.266218Z",
     "start_time": "2024-12-19T17:33:29.221305Z"
    }
   },
   "cell_type": "code",
   "source": [
    "from langchain_openai import ChatOpenAI, OpenAIEmbeddings\n",
    "from langchain_core.messages import SystemMessage, HumanMessage, AIMessage\n",
    "from langchain_community.document_loaders import PyPDFLoader, UnstructuredXMLLoader\n",
    "from langchain.document_loaders import TextLoader\n",
    "from langchain.vectorstores import FAISS\n",
    "from langchain.chains import RetrievalQA\n",
    "import os\n",
    "\n",
    "# PDF 파일 로드 및 벡터스토어 생성\n",
    "documents = []\n",
    "pdf_folder = r'C:\\Workspace\\DA36_mini4_ma\\min\\pdfs\\race_guide'\n",
    "pdf_files = [os.path.join(pdf_folder, file) for file in os.listdir(pdf_folder) if file.endswith('.pdf')]\n",
    "\n",
    "for pdf_file in pdf_files:\n",
    "    loader = PyPDFLoader(pdf_file)\n",
    "    documents.extend(loader.load())\n",
    "\n",
    "# 임베딩 생성\n",
    "embeddings = OpenAIEmbeddings(model=\"text-embedding-ada-002\")\n",
    "vector_store = FAISS.from_documents(documents, embeddings)\n",
    "\n",
    "# 벡터스토어 저장 경로\n",
    "vectorstore_path = r'C:\\Workspace\\DA36_mini4_ma\\min\\vectors_new\\vs_race_guide'\n",
    "\n",
    "# 벡터스토어 저장\n",
    "vector_store.save_local(vectorstore_path)\n",
    "print(f\"Vectorstore saved at {vectorstore_path}\")"
   ],
   "id": "d2c0738da1a23a7",
   "outputs": [
    {
     "name": "stdout",
     "output_type": "stream",
     "text": [
      "Vectorstore saved at C:\\Workspace\\DA36_mini4_ma\\min\\vectors_new\\vs_race_guide\n"
     ]
    }
   ],
   "execution_count": 6
  },
  {
   "metadata": {},
   "cell_type": "markdown",
   "source": "### winners",
   "id": "c1b4467aaf9469ad"
  },
  {
   "metadata": {
    "ExecuteTime": {
     "end_time": "2024-12-19T17:34:15.507734Z",
     "start_time": "2024-12-19T17:34:12.635565Z"
    }
   },
   "cell_type": "code",
   "source": [
    "from langchain_openai import ChatOpenAI, OpenAIEmbeddings\n",
    "from langchain_core.messages import SystemMessage, HumanMessage, AIMessage\n",
    "from langchain_community.document_loaders import PyPDFLoader, UnstructuredXMLLoader\n",
    "from langchain.document_loaders import TextLoader\n",
    "from langchain.vectorstores import FAISS\n",
    "from langchain.chains import RetrievalQA\n",
    "import os\n",
    "\n",
    "# PDF 파일 로드 및 벡터스토어 생성\n",
    "documents = []\n",
    "pdf_folder = r'C:\\Workspace\\DA36_mini4_ma\\min\\pdfs\\winners'\n",
    "pdf_files = [os.path.join(pdf_folder, file) for file in os.listdir(pdf_folder) if file.endswith('.pdf')]\n",
    "\n",
    "for pdf_file in pdf_files:\n",
    "    loader = PyPDFLoader(pdf_file)\n",
    "    documents.extend(loader.load())\n",
    "\n",
    "# 임베딩 생성\n",
    "embeddings = OpenAIEmbeddings(model=\"text-embedding-ada-002\")\n",
    "vector_store = FAISS.from_documents(documents, embeddings)\n",
    "\n",
    "# 벡터스토어 저장 경로\n",
    "vectorstore_path = r'C:\\Workspace\\DA36_mini4_ma\\min\\vectors_new\\vs_winners'\n",
    "\n",
    "# 벡터스토어 저장\n",
    "vector_store.save_local(vectorstore_path)\n",
    "print(f\"Vectorstore saved at {vectorstore_path}\")"
   ],
   "id": "bb4f79e8a12d61a5",
   "outputs": [
    {
     "name": "stdout",
     "output_type": "stream",
     "text": [
      "Vectorstore saved at C:\\Workspace\\DA36_mini4_ma\\min\\vectors_new\\vs_winners\n"
     ]
    }
   ],
   "execution_count": 7
  },
  {
   "metadata": {},
   "cell_type": "markdown",
   "source": "### 카테고리 분류 함수",
   "id": "ef6308d4ed3241c0"
  },
  {
   "metadata": {
    "ExecuteTime": {
     "end_time": "2024-12-19T18:31:50.808233Z",
     "start_time": "2024-12-19T18:31:49.571118Z"
    }
   },
   "cell_type": "code",
   "source": [
    "from langchain_openai import ChatOpenAI\n",
    "from langchain.prompts import ChatPromptTemplate\n",
    "from langchain_core.output_parsers import StrOutputParser\n",
    "\n",
    "# OpenAI 모델 초기화\n",
    "model = ChatOpenAI(\n",
    "    model=\"gpt-4o\",\n",
    "    temperature=0\n",
    ")\n",
    "\n",
    "def classify_question(query):\n",
    "    # 프롬프트 생성\n",
    "    prompt = ChatPromptTemplate.from_messages([\n",
    "    SystemMessage(content=\"\"\"\\\n",
    "    You are an expert in horse racing. Your task is to classify the given user question into one of the following categories:\n",
    "    \n",
    "    - 경마정보: Questions about general information such as rules, betting methods, and terminology.\n",
    "    - 경주일정: Questions about race schedules, dates, times, or locations. If the question mentions specific dates, races, or schedules, prioritize this category even if other details (e.g., horse performance) are included.\n",
    "    - 우승마기록: Questions about winning horses and their records.\n",
    "    - 경주마정보: Questions about specific horses, their participation counts, rankings, or performance metrics.\n",
    "\n",
    "    If the question does not match any category, return \"Unknown\".\n",
    "    \"\"\"),\n",
    "    HumanMessage(content=f\"User Question: {query}\\n\\nClassify this question into one of the categories:\")\n",
    "])\n",
    "\n",
    "    output_parser = StrOutputParser()\n",
    "    chain = prompt | model | output_parser\n",
    "    response = chain.invoke({})\n",
    "    \n",
    "    return response.strip('-')"
   ],
   "id": "2e2670509577e53a",
   "outputs": [],
   "execution_count": 70
  },
  {
   "metadata": {
    "ExecuteTime": {
     "end_time": "2024-12-19T18:31:53.044877Z",
     "start_time": "2024-12-19T18:31:52.505924Z"
    }
   },
   "cell_type": "code",
   "source": [
    "query = '2024년 12월 21일 서울 3경주에 출전하는 말들의 경주력을 분석해줘'\n",
    "answer = classify_question(query)\n",
    "print(answer)"
   ],
   "id": "e1c6c4c658b3b745",
   "outputs": [
    {
     "name": "stdout",
     "output_type": "stream",
     "text": [
      "경주일정\n"
     ]
    }
   ],
   "execution_count": 71
  },
  {
   "metadata": {
    "ExecuteTime": {
     "end_time": "2024-12-19T18:22:37.459999Z",
     "start_time": "2024-12-19T18:22:36.829476Z"
    }
   },
   "cell_type": "code",
   "source": [
    "query = '2024년 우승을 제일 많이 한 말들을 지역별로 알려줘'\n",
    "answer = classify_question(query)\n",
    "print(answer)"
   ],
   "id": "bdcab4fb43aca68d",
   "outputs": [
    {
     "name": "stdout",
     "output_type": "stream",
     "text": [
      "우승마기록\n"
     ]
    }
   ],
   "execution_count": 51
  },
  {
   "metadata": {
    "ExecuteTime": {
     "end_time": "2024-12-19T18:23:18.742787Z",
     "start_time": "2024-12-19T18:23:18.148885Z"
    }
   },
   "cell_type": "code",
   "source": [
    "query='관악산원더풀의 나이와 지금까지 2등 횟수를 알려줘'\n",
    "answer=classify_question(query)\n",
    "print(answer)"
   ],
   "id": "629f14d39d7a26b5",
   "outputs": [
    {
     "name": "stdout",
     "output_type": "stream",
     "text": [
      "경주마정보\n"
     ]
    }
   ],
   "execution_count": 52
  },
  {
   "metadata": {},
   "cell_type": "markdown",
   "source": "### 카테고리별 벡터스토어 활용",
   "id": "15bdcbe3cde6987a"
  },
  {
   "metadata": {
    "ExecuteTime": {
     "end_time": "2024-12-19T18:32:51.416581Z",
     "start_time": "2024-12-19T18:32:51.409344Z"
    }
   },
   "cell_type": "code",
   "source": [
    "# 카테고리별 벡터스토어 경로\n",
    "vectorstore_paths = {\n",
    "    \"경마정보\": r\"C:\\Workspace\\DA36_mini4_ma\\min\\vectors_new\\vs_race_guide\",\n",
    "    \"경주일정\": r\"C:\\Workspace\\DA36_mini4_ma\\min\\vectors_new\\vs_schedule\",\n",
    "    \"우승마기록\": r\"C:\\Workspace\\DA36_mini4_ma\\min\\vectors_new\\vs_winners\",\n",
    "    \"경주마정보\": r\"C:\\Workspace\\DA36_mini4_ma\\min\\vectors_new\\vs_horse_info\"\n",
    "}\n",
    "\n",
    "\n",
    "def rag_and_prompt(query):\n",
    "    category = classify_question(query)\n",
    "    \n",
    "    vectorstore_path = vectorstore_paths[category]\n",
    "    embeddings = OpenAIEmbeddings(model=\"text-embedding-ada-002\")\n",
    "    vector_store = FAISS.load_local(vectorstore_path, embeddings, allow_dangerous_deserialization=True)\n",
    "    retriever = vector_store.as_retriever()\n",
    "\n",
    "    results = retriever.get_relevant_documents(query)\n",
    "    retrieved_data = \"\\n\".join([doc.page_content for doc in results])\n",
    "    \n",
    "    prompt = ChatPromptTemplate.from_messages([\n",
    "        SystemMessage(content=\"\"\"\\\n",
    "        당신은 재치있고 유머러스하고 애교 많은 귀여운 경마 안내 챗봇입니다. \n",
    "        질문에 대해 검색된 정보를 바탕으로 아주 상세하고 재미있는 답변을 제공합니다.\n",
    "        \"\"\"),\n",
    "        HumanMessage(content=f\"\"\"\\\n",
    "        사용자의 질문에 context만을 이용해 답변해 주세요.\n",
    "        질문: {query}\n",
    "        context: {retrieved_data}\n",
    "        \"\"\")\n",
    "    ])\n",
    "    \n",
    "    output_parser = StrOutputParser()\n",
    "    chain = prompt | model | output_parser\n",
    "    response = chain.invoke({\"query\": query})\n",
    "    return response"
   ],
   "id": "11e8ba6ccb0144e9",
   "outputs": [],
   "execution_count": 73
  },
  {
   "metadata": {},
   "cell_type": "markdown",
   "source": "### 질문",
   "id": "2cb9308a2979a5c3"
  },
  {
   "metadata": {
    "ExecuteTime": {
     "end_time": "2024-12-19T18:51:01.138299Z",
     "start_time": "2024-12-19T18:51:01.133717Z"
    }
   },
   "cell_type": "code",
   "source": [
    "def ask_question(query):\n",
    "    response = rag_and_prompt(query)\n",
    "    return response"
   ],
   "id": "84da37e341d08f08",
   "outputs": [],
   "execution_count": 92
  },
  {
   "metadata": {},
   "cell_type": "markdown",
   "source": "## Test QnA",
   "id": "ec3a561142a56ae3"
  },
  {
   "metadata": {},
   "cell_type": "code",
   "outputs": [],
   "execution_count": null,
   "source": [
    "query='난 처음이라 잘 모르겠어 로또처럼 자동배팅도 있나?'\n",
    "answer=ask_question(query)\n",
    "print(answer)"
   ],
   "id": "8ce03bf6a57778e6"
  },
  {
   "metadata": {},
   "cell_type": "code",
   "outputs": [],
   "execution_count": null,
   "source": "",
   "id": "d75d55399a2c411a"
  },
  {
   "metadata": {},
   "cell_type": "code",
   "outputs": [],
   "execution_count": null,
   "source": "",
   "id": "4fd168d908c3e557"
  },
  {
   "metadata": {},
   "cell_type": "markdown",
   "source": "### 요약",
   "id": "fcabbcda7f6b78d8"
  },
  {
   "metadata": {
    "ExecuteTime": {
     "end_time": "2024-12-19T18:46:45.889010Z",
     "start_time": "2024-12-19T18:46:44.791467Z"
    }
   },
   "cell_type": "code",
   "source": [
    "from langchain_openai import ChatOpenAI\n",
    "from langchain.prompts import ChatPromptTemplate\n",
    "from langchain_core.output_parsers import StrOutputParser\n",
    "\n",
    "# OpenAI 모델 초기화\n",
    "model = ChatOpenAI(\n",
    "    model=\"gpt-4o\",\n",
    "    temperature=0\n",
    ")\n",
    "\n",
    "def classify_question(query):\n",
    "    # 프롬프트 생성\n",
    "    prompt = ChatPromptTemplate.from_messages([\n",
    "    SystemMessage(content=\"\"\"\\\n",
    "    You are an expert in horse racing. Your task is to classify the given user question into one of the following categories:\n",
    "    \n",
    "    - 경마정보: Questions about general information such as rules, betting methods, and terminology.\n",
    "    - 경주일정: Questions about race schedules, dates, times, or locations. If the question mentions specific dates, races, or schedules, prioritize this category even if other details (e.g., horse performance) are included.\n",
    "    - 우승마기록: Questions about winning horses and their records.\n",
    "    - 경주마정보: Questions about specific horses, their participation counts, rankings, or performance metrics.\n",
    "\n",
    "    If the question does not match any category, return \"Unknown\".\n",
    "    \"\"\"),\n",
    "    HumanMessage(content=f\"User Question: {query}\\n\\nClassify this question into one of the categories:\")\n",
    "])\n",
    "\n",
    "    output_parser = StrOutputParser()\n",
    "    chain = prompt | model | output_parser\n",
    "    response = chain.invoke({})\n",
    "    \n",
    "    return response.strip('-')\n",
    "\n",
    "vectorstore_paths = {\n",
    "    \"경마정보\": r\"C:\\Workspace\\DA36_mini4_ma\\min\\vectors_new\\vs_race_guide\",\n",
    "    \"경주일정\": r\"C:\\Workspace\\DA36_mini4_ma\\min\\vectors_new\\vs_schedule\",\n",
    "    \"우승마기록\": r\"C:\\Workspace\\DA36_mini4_ma\\min\\vectors_new\\vs_winners\",\n",
    "    \"경주마정보\": r\"C:\\Workspace\\DA36_mini4_ma\\min\\vectors_new\\vs_horse_info\"\n",
    "}\n",
    "\n",
    "def summarize_query(query):\n",
    "    if len(query.split()) <= 20:\n",
    "        return False, query  \n",
    "\n",
    "    prompt = ChatPromptTemplate.from_messages([\n",
    "        SystemMessage(content=\"You are an assistant that summarizes questions into concise queries for search.\"),\n",
    "        HumanMessage(content=f\"Original question: {query}\\n\\nSummarize this into a concise query:\")\n",
    "    ])\n",
    "    summarized_query = (prompt | model | StrOutputParser()).invoke({\"query\": query})\n",
    "    print(\"⚠️질문이 20단어를 초과하여 요약되었습니다.\")\n",
    "    return True, summarized_query \n",
    "\n",
    "def rag_and_prompt(query):\n",
    "    category = classify_question(query)\n",
    "    \n",
    "    vectorstore_path = vectorstore_paths[category]\n",
    "    embeddings = OpenAIEmbeddings(model=\"text-embedding-ada-002\")\n",
    "    vector_store = FAISS.load_local(vectorstore_path, embeddings, allow_dangerous_deserialization=True)\n",
    "    retriever = vector_store.as_retriever()\n",
    "\n",
    "    is_summarized, summarized_query = summarize_query(query)  # 요약 수행\n",
    "    if is_summarized:\n",
    "        print(f\"- 기존 질문: {query}\\n- 요약된 질문: {summarized_query}\\n\")\n",
    "    else:\n",
    "        print(f\"질문: {query}\\n\")\n",
    "\n",
    "    results = retriever.get_relevant_documents(summarized_query)\n",
    "    \n",
    "    retrieved_data = \"\\n\".join([doc.page_content for doc in results])\n",
    "    \n",
    "    prompt = ChatPromptTemplate.from_messages([\n",
    "        SystemMessage(content=\"\"\"\\\n",
    "        당신은 전문적인 귀여운 경마 안내 챗봇입니다. \n",
    "        질문에 대해 검색된 정보를 바탕으로 아주 상세하고 재미있는 답변을 제공합니다.\n",
    "        예시: 2024년 12월 21일 서울 경주 일정을 알려달라고 하면, 경주의 시간과, 최근 성적이 좋은 말의 정보 등을 알려줘\n",
    "        \"\"\"),\n",
    "        HumanMessage(content=f\"\"\"\\\n",
    "        사용자의 질문에 context만을 이용해 답변해 주세요.\n",
    "        질문: {query}\n",
    "        context: {retrieved_data}\n",
    "        \"\"\")\n",
    "    ])\n",
    "    \n",
    "    output_parser = StrOutputParser()\n",
    "    chain = prompt | model | output_parser\n",
    "    response = chain.invoke({\"query\": query})\n",
    "    return response\n",
    "\n",
    "def ask_question(query):\n",
    "    response = rag_and_prompt(query)\n",
    "    return response"
   ],
   "id": "88a1858da888e97f",
   "outputs": [],
   "execution_count": 89
  },
  {
   "metadata": {
    "ExecuteTime": {
     "end_time": "2024-12-19T18:46:59.886748Z",
     "start_time": "2024-12-19T18:46:45.908983Z"
    }
   },
   "cell_type": "code",
   "source": [
    "query=\"2024년 12월 21일 서울 경주 일정을 알려줘, 배팅을 처음 해보는데 어떤 말한테 배팅하면 좋을지 알려줬으면 좋겠어 그리고 나는 네시 이후에만 갈 수 있어.\"\n",
    "print(ask_question(query))"
   ],
   "id": "198445003290cd4d",
   "outputs": [
    {
     "name": "stdout",
     "output_type": "stream",
     "text": [
      "⚠️질문이 20단어를 초과하여 요약되었습니다.\n",
      "- 기존 질문: 2024년 12월 21일 서울 경주 일정을 알려줘, 배팅을 처음 해보는데 어떤 말한테 배팅하면 좋을지 알려줬으면 좋겠어 그리고 나는 네시 이후에만 갈 수 있어.\n",
      "- 요약된 질문: 2024년 12월 21일 서울 경주 일정과 오후 4시 이후 배팅 추천 말 알려줘.\n",
      "\n",
      "2024년 12월 21일 서울 경마공원에서는 8경주가 열릴 예정입니다. 이 경주는 혼합 4등급 1800m 핸디캡 경주로, 오후 4시 이후에 시작될 가능성이 높습니다. \n",
      "\n",
      "이번 경주에서 주목할 만한 말로는 \"마이티닉\"이 있습니다. 최근 경주에서 좋은 성적을 보였으며, 특히 11월 16일 경주에서는 1800m를 1:59.5로 달리며 좋은 기록을 세웠습니다. 또한, \"트리스탄왕자\"도 최근 1800m 경주에서 1:58.2의 기록을 세우며 주목받고 있습니다.\n",
      "\n",
      "배팅을 처음 하신다면, 최근 성적이 좋은 말들을 중심으로 배팅을 고려해보시는 것도 좋습니다. \"마이티닉\"과 \"트리스탄왕자\"는 최근 경주에서 안정적인 성적을 보여주고 있어, 이들을 주목해보시는 것을 추천드립니다. \n",
      "\n",
      "경마는 예측이 어려운 스포츠이니, 재미로 즐기시면서 배팅하시길 바랍니다! 즐거운 경마 관람 되세요! 🐎🏇\n"
     ]
    }
   ],
   "execution_count": 90
  },
  {
   "metadata": {
    "ExecuteTime": {
     "end_time": "2024-12-19T18:47:19.142034Z",
     "start_time": "2024-12-19T18:46:59.914540Z"
    }
   },
   "cell_type": "code",
   "source": [
    "query=\"2024년 12월 21일 서울 1경주에 출전하는 말들을 알려줘.\"\n",
    "print(ask_question(query))"
   ],
   "id": "6bc56908fe48ef9",
   "outputs": [
    {
     "name": "stdout",
     "output_type": "stream",
     "text": [
      "질문: 2024년 12월 21일 서울 1경주에 출전하는 말들을 알려줘.\n",
      "\n",
      "2024년 12월 21일 서울 1경주에 출전하는 말들의 정보는 다음과 같습니다:\n",
      "\n",
      "1. **강남불청객** - 한,수3세\n",
      "   - 최근 성적: 2024년 10월 19일 혼2 2000m 경주에서 9위\n",
      "   - 기수: 김용근\n",
      "   - 부중: 55.0kg\n",
      "\n",
      "2. **거센반격** - 한,수3세\n",
      "   - 최근 성적: 2024년 10월 26일 혼2 1200m 경주에서 1위\n",
      "   - 기수: 문세영\n",
      "   - 부중: 56.0kg\n",
      "\n",
      "3. **영광의월드** - 한,거3세\n",
      "   - 최근 성적: 2024년 11월 23일 혼2 1200m 경주에서 1위\n",
      "   - 기수: 장추열\n",
      "   - 부중: 55.5kg\n",
      "\n",
      "4. **더플레이어** - 한,거3세\n",
      "   - 최근 성적: 2024년 11월 23일 혼2 1200m 경주에서 3위\n",
      "   - 기수: 씨씨웡\n",
      "   - 부중: 53.0kg\n",
      "\n",
      "5. **차돌다이아** - 한,암3세\n",
      "   - 최근 성적: 2024년 11월 2일 국3 1200m 경주에서 1위\n",
      "   - 기수: 이혁\n",
      "   - 부중: 52.0kg\n",
      "\n",
      "6. **퓨리오사** - 한,암4세\n",
      "   - 최근 성적: 2024년 12월 7일 혼2 1400m 경주에서 7위\n",
      "   - 기수: 임다빈\n",
      "   - 부중: 52.0kg\n",
      "\n",
      "7. **미라클한강** - 한,거3세\n",
      "   - 최근 성적: 2024년 11월 23일 혼2 1200m 경주에서 2위\n",
      "   - 기수: 마이아\n",
      "   - 부중: 55.5kg\n",
      "\n",
      "8. **마이티칩** - 미,수6세\n",
      "   - 최근 성적: 2024년 11월 22일 능검에서 1위\n",
      "   - 기수: 푸르칸\n",
      "   - 부중: 58.0kg\n",
      "\n",
      "9. **라온더제트** - 한,수5세\n",
      "   - 최근 성적: 2024년 10월 26일 혼2 1200m 경주에서 8위\n",
      "   - 기수: 이상규\n",
      "   - 부중: 54.0kg\n",
      "\n",
      "10. **동진최강** - 한,수6세\n",
      "    - 최근 성적: 2024년 11월 29일 능검에서 2위\n",
      "    - 기수: 김성현\n",
      "    - 부중: 55.0kg\n",
      "\n",
      "11. **라온아메리칸** - 한,수4세\n",
      "    - 최근 성적: 2024년 11월 10일 혼2 1400m 경주에서 2위\n",
      "    - 기수: 송재철\n",
      "    - 부중: 53.0kg\n",
      "\n",
      "이 말들은 각기 다른 경주력과 성적을 가지고 있으며, 기수와 부중에 따라 경주에서의 성과가 달라질 수 있습니다. 경주를 관람하실 때 이 점들을 참고하시면 더욱 흥미로운 경마 관람이 될 것입니다!\n"
     ]
    }
   ],
   "execution_count": 91
  },
  {
   "metadata": {
    "ExecuteTime": {
     "end_time": "2024-12-19T18:30:17.933668Z",
     "start_time": "2024-12-19T18:30:09.491608Z"
    }
   },
   "cell_type": "code",
   "source": [
    "query='2024년 12월 21일 서울 1경주의 경주력을 분석해줘'\n",
    "answer=ask_question(query)\n",
    "print(answer)"
   ],
   "id": "f37cc550d8231c0e",
   "outputs": [
    {
     "name": "stdout",
     "output_type": "stream",
     "text": [
      "2024년 12월 21일 서울 1경주에 대한 정보는 제공되지 않았지만, 12월 21일의 다른 경주에 대한 정보는 있습니다. 예를 들어, 4경주에 대한 정보가 있습니다. 이 경주는 국6 1200m 별정A 경주로, 경주력 순위는 ③, ⑪, ⑩, ⑤, ①, ②, ⑨, ④, ⑥, ⑦, ⑧입니다. \n",
      "\n",
      "각 말의 최근 기록을 보면, 차밍큐피드(①)는 10월 10일 능검에서 1:05.3의 기록을 세웠고, 스파르탄(②)은 12월 7일 국6 1200m에서 1:15.5의 기록을 세웠습니다. 스카이로열(③)은 11월 1일 능검에서 1:04.3의 기록을 세웠습니다. \n",
      "\n",
      "이 경주에서 주목할 만한 점은 스카이로열이 최근 능검에서 좋은 기록을 세웠다는 점입니다. 경주력 순위에서 1위를 차지한 만큼, 이 말이 경주에서 좋은 성적을 낼 가능성이 높아 보입니다. \n",
      "\n",
      "경마는 항상 예측 불가능한 요소가 많으니, 경주 당일의 날씨, 주로 상태, 기수의 컨디션 등을 종합적으로 고려하는 것이 중요합니다. 🏇✨\n"
     ]
    }
   ],
   "execution_count": 67
  },
  {
   "metadata": {
    "ExecuteTime": {
     "end_time": "2024-12-19T18:30:22.244439Z",
     "start_time": "2024-12-19T18:30:18.037066Z"
    }
   },
   "cell_type": "code",
   "source": [
    "\n",
    "query='말 이름이 포에틱누비인데 정보를 알려줘'\n",
    "answer=ask_question(query)\n",
    "print(answer)"
   ],
   "id": "644b587a64ab9a8a",
   "outputs": [
    {
     "name": "stdout",
     "output_type": "stream",
     "text": [
      "아이고, 포에틱누비라는 이름의 말에 대한 정보를 찾으려고 했는데, 제공된 컨텍스트에는 포에틱누비에 대한 정보가 없네요! 😅\n",
      "\n",
      "혹시 다른 경주마에 대한 정보나 경마 관련 질문이 있다면 언제든지 물어보세요. 제가 도와드릴 수 있는 다른 방법이 있을지도 모르니까요! 🐴✨\n"
     ]
    }
   ],
   "execution_count": 68
  },
  {
   "metadata": {
    "ExecuteTime": {
     "end_time": "2024-12-19T18:33:02.369102Z",
     "start_time": "2024-12-19T18:32:55.846833Z"
    }
   },
   "cell_type": "code",
   "source": [
    "query=\"2024년 12월 21일 서울 1경주의 말들을 알려주고, 배팅을 처음 해보는데 어떤 말한테 배팅하면 좋을지 알려줬으면 좋겠어\"\n",
    "print(ask_question(query))"
   ],
   "id": "9b1d809edb027fc0",
   "outputs": [
    {
     "name": "stdout",
     "output_type": "stream",
     "text": [
      "안녕하세요! 2024년 12월 21일 서울 1경주에 대한 정보를 알려드릴게요. 이 경주에는 여러 말들이 출전할 예정인데요, 그 중에서 몇 가지 주목할 만한 말들을 소개해드릴게요.\n",
      "\n",
      "1. **강남불청객**: 최근 경주에서 좋은 성적을 거두고 있으며, 특히 1200m 거리에서 강한 모습을 보여주고 있습니다. 김용근 기수가 기승할 예정이라 기대가 됩니다.\n",
      "\n",
      "2. **거센반격**: 최근 1200m 경주에서 1위를 차지한 경험이 있어, 이번 경주에서도 좋은 성적을 기대할 수 있습니다. 문세영 기수가 기승할 예정입니다.\n",
      "\n",
      "3. **영광의월드**: 최근 1200m 경주에서 1위를 차지한 기록이 있으며, 장추열 기수가 기승할 예정입니다. 꾸준한 성적을 보여주고 있어 주목할 만합니다.\n",
      "\n",
      "배팅을 처음 해보신다고 하셨는데, 처음이라면 최근 성적이 좋은 말들에 배팅하는 것이 안전할 수 있습니다. 위에서 언급한 말들 중에서 최근 성적이 좋은 **거센반격**이나 **영광의월드**에 배팅해보시는 것도 좋은 선택일 수 있습니다. 물론 경마는 예측이 어려운 스포츠이니, 재미로 즐기시는 것을 추천드립니다! 🐎💨\n",
      "\n",
      "행운을 빌어요! 🍀\n"
     ]
    }
   ],
   "execution_count": 74
  },
  {
   "metadata": {
    "ExecuteTime": {
     "end_time": "2024-12-19T18:41:23.494650Z",
     "start_time": "2024-12-19T18:41:10.497061Z"
    }
   },
   "cell_type": "code",
   "source": [
    "query = \"2024년 12월 21일 서울 1경주의 말들을 알려주고, 배팅을 처음 해보는데 어떤 말한테 배팅하면 좋을지 알려줬으면 좋겠어\"\n",
    "print(ask_question(query))"
   ],
   "id": "de256e67a2581603",
   "outputs": [
    {
     "name": "stdout",
     "output_type": "stream",
     "text": [
      "질문: 2024년 12월 21일 서울 1경주의 말들을 알려주고, 배팅을 처음 해보는데 어떤 말한테 배팅하면 좋을지 알려줬으면 좋겠어\n",
      "2024년 12월 21일 서울 1경주에 출전하는 말들에 대한 정보는 제공되지 않았지만, 배팅에 대한 조언을 드릴 수 있습니다! 경마 배팅을 처음 하신다면, 몇 가지 팁을 드릴게요:\n",
      "\n",
      "1. **말의 최근 성적**: 최근 경주에서 좋은 성적을 거둔 말들을 주목하세요. 예를 들어, 최근 1위나 2위를 기록한 말들은 컨디션이 좋을 가능성이 높습니다.\n",
      "\n",
      "2. **기수의 실력**: 기수의 경험과 실력도 중요합니다. 유명하고 경험 많은 기수가 탄 말은 안정적인 경주를 펼칠 가능성이 큽니다.\n",
      "\n",
      "3. **말의 체중 변화**: 말의 체중 변화도 주의 깊게 살펴보세요. 체중이 급격히 변한 말은 컨디션에 변화가 있을 수 있습니다.\n",
      "\n",
      "4. **주로 조건**: 경주가 열리는 날의 날씨와 주로 상태도 고려하세요. 어떤 말들은 비가 오거나 주로가 젖었을 때 더 잘 달릴 수 있습니다.\n",
      "\n",
      "5. **배당률**: 배당률이 낮은 말은 많은 사람들이 승리할 것으로 예상하는 말입니다. 하지만 배당률이 높은 말에 배팅하면 더 큰 수익을 얻을 수 있는 기회가 있습니다.\n",
      "\n",
      "이 모든 정보를 종합하여 배팅 전략을 세우세요. 그리고 무엇보다도, 경마는 예측 불가능한 요소가 많으니 재미로 즐기시는 것이 가장 중요합니다! 🐎💨\n"
     ]
    }
   ],
   "execution_count": 80
  },
  {
   "metadata": {},
   "cell_type": "code",
   "outputs": [],
   "execution_count": null,
   "source": "",
   "id": "b646c471f94531ee"
  }
 ],
 "metadata": {
  "kernelspec": {
   "display_name": "Python 3",
   "language": "python",
   "name": "python3"
  },
  "language_info": {
   "codemirror_mode": {
    "name": "ipython",
    "version": 2
   },
   "file_extension": ".py",
   "mimetype": "text/x-python",
   "name": "python",
   "nbconvert_exporter": "python",
   "pygments_lexer": "ipython2",
   "version": "2.7.6"
  }
 },
 "nbformat": 4,
 "nbformat_minor": 5
}
