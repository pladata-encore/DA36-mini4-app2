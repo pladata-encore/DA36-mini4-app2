{
 "cells": [
  {
   "metadata": {
    "ExecuteTime": {
     "end_time": "2024-12-19T10:48:44.334277Z",
     "start_time": "2024-12-19T10:48:44.284132Z"
    }
   },
   "cell_type": "code",
   "source": [
    "from dotenv import load_dotenv\n",
    "load_dotenv()"
   ],
   "id": "2d7debf2ceecb7a9",
   "outputs": [
    {
     "data": {
      "text/plain": [
       "True"
      ]
     },
     "execution_count": 1,
     "metadata": {},
     "output_type": "execute_result"
    }
   ],
   "execution_count": 1
  },
  {
   "cell_type": "code",
   "id": "initial_id",
   "metadata": {
    "collapsed": true,
    "ExecuteTime": {
     "end_time": "2024-12-19T10:49:06.425769Z",
     "start_time": "2024-12-19T10:49:00.042436Z"
    }
   },
   "source": [
    "from langchain_openai import ChatOpenAI\n",
    "from langchain.vectorstores import FAISS\n",
    "from langchain.embeddings import OpenAIEmbeddings\n",
    "from langchain.chains import RetrievalQA\n",
    "from langchain.prompts import PromptTemplate\n",
    "import os\n",
    "\n",
    "model = ChatOpenAI(\n",
    "    model=\"gpt-4o\",\n",
    "    temperature=0.3,\n",
    ")\n",
    "def predict_category(query):\n",
    "    prompt = f\"\"\"\n",
    "    다음은 사용자의 질문입니다. 질문을 아래의 카테고리 중 하나로 분류해주세요:\n",
    "    - 경마방법: 경마 규칙, 배팅 방법, 경마 용어 등과 관련된 질문.\n",
    "    - 경기스케쥴: **날짜, 경마 일정, 시간표, 장소(예: 서울 경마공원 일정, 부산 경마공원 일정 등),** 2024년 경기와 관련된 질문. 예) \"12월 21일 서울 경주 일정은?\", \"2024년 부산 경마 일정은?\"\n",
    "    - 우승마기록: 우승 기록, 인기 있는 말, 말의 성적 등과 관련된 질문.\n",
    "    - 2024시행계획: 2024년 관련 계획, 정책, 새로운 규정 등과 관련된 질문.\n",
    "    - 기타: 위의 카테고리에 해당하지 않는 질문.\n",
    "    \n",
    "    위 카테고리 중 가장 적합한 하나를 선택해서 답변해주세요. 위 카테고리에 포함되지 않으면 \"기타\"입니다.\n",
    "    서울 경주 일정을 물어보면 경기스케줄로 분류하세요\n",
    "\"\"\"\n",
    "    response = model.invoke(prompt)\n",
    "    category = response.content.strip()\n",
    "\n",
    "    # 유효한 카테고리 확인\n",
    "    valid_categories = ['경마방법', '경기스케쥴', '우승마기록', '2024시행계획']\n",
    "    return category if category in valid_categories else \"기타\"\n",
    "\n",
    "category_to_abbreviation = {\n",
    "    '경마방법': 'guide',\n",
    "    '경기스케쥴': 'schedule',\n",
    "    '우승마기록': 'winners',\n",
    "    '2024시행계획': 'plan2024',\n",
    "    '기타': 'all', \n",
    "}\n",
    "\n",
    "vectorstore_folder = 'C:/Workspace/DA36_mini4/min/vectorstores'\n",
    "def ask_question_with_rag(query):\n",
    "    predicted_category = predict_category(query)\n",
    "    abbreviation = category_to_abbreviation.get(predicted_category, 'all')\n",
    "    vectorstore_path = os.path.join(vectorstore_folder, f\"vs_{abbreviation}\")\n",
    "\n",
    "    vector_store = FAISS.load_local(\n",
    "        vectorstore_path, \n",
    "        OpenAIEmbeddings(model=\"text-embedding-ada-002\"), \n",
    "        allow_dangerous_deserialization=True\n",
    "    )\n",
    "    retriever = vector_store.as_retriever()\n",
    "\n",
    "    rqa = RetrievalQA.from_chain_type(\n",
    "        llm=model,\n",
    "        retriever=retriever,\n",
    "        chain_type=\"stuff\"\n",
    "    )\n",
    "    response = rqa({\"query\": query})\n",
    "    return response['result']"
   ],
   "outputs": [],
   "execution_count": 2
  },
  {
   "metadata": {},
   "cell_type": "markdown",
   "source": "### 카테고리 분류 질문",
   "id": "d8f7cf020400f8d0"
  },
  {
   "metadata": {
    "ExecuteTime": {
     "end_time": "2024-12-19T10:50:04.829161Z",
     "start_time": "2024-12-19T10:50:04.250684Z"
    }
   },
   "cell_type": "code",
   "source": [
    "# 카테고리 질문\n",
    "query=\"2024년 12월 21일 서울 1경주 경주력을 분석해서 배팅할만한 말 세 마리만 말해줘\"\n",
    "response = predict_category(query)\n",
    "print(response)"
   ],
   "id": "238af2bff8bf6443",
   "outputs": [
    {
     "name": "stdout",
     "output_type": "stream",
     "text": [
      "경기스케쥴\n"
     ]
    }
   ],
   "execution_count": 4
  },
  {
   "metadata": {},
   "cell_type": "code",
   "outputs": [],
   "execution_count": null,
   "source": "",
   "id": "26556830497ad240"
  },
  {
   "metadata": {},
   "cell_type": "markdown",
   "source": "### 테스트 QnA",
   "id": "11545b7dee12932"
  },
  {
   "metadata": {
    "ExecuteTime": {
     "end_time": "2024-12-19T10:49:11.151426Z",
     "start_time": "2024-12-19T10:49:06.433072Z"
    }
   },
   "cell_type": "code",
   "source": [
    "query=\"12월21일 오후 4시 이후에 경기를 보러 갈 건데, 어떤 말에 배팅할까?\"\n",
    "print(ask_question_with_rag(query))"
   ],
   "id": "62a2222a2bc46e6b",
   "outputs": [
    {
     "name": "stderr",
     "output_type": "stream",
     "text": [
      "C:\\Users\\playdata2\\AppData\\Local\\Temp\\ipykernel_23824\\394325305.py:47: LangChainDeprecationWarning: The class `OpenAIEmbeddings` was deprecated in LangChain 0.0.9 and will be removed in 1.0. An updated version of the class exists in the :class:`~langchain-openai package and should be used instead. To use it run `pip install -U :class:`~langchain-openai` and import as `from :class:`~langchain_openai import OpenAIEmbeddings``.\n",
      "  OpenAIEmbeddings(model=\"text-embedding-ada-002\"),\n",
      "C:\\Users\\playdata2\\AppData\\Local\\Temp\\ipykernel_23824\\394325305.py:57: LangChainDeprecationWarning: The method `Chain.__call__` was deprecated in langchain 0.1.0 and will be removed in 1.0. Use :meth:`~invoke` instead.\n",
      "  response = rqa({\"query\": query})\n"
     ]
    },
    {
     "name": "stdout",
     "output_type": "stream",
     "text": [
      "2024년 12월 21일 오후 4시 이후에 열리는 경주는 7경주 혼4 1200 핸디캡입니다. 이 경주에서 경주력이 좋은 말로는 ⑥ 문학홀리데이, ⑦ 원더풀웰스, ④ 관악산레오, ⑤ 제우시대 등이 있습니다. 이 말들 중에서 선택하여 배팅을 고려해보시면 좋을 것 같습니다.\n"
     ]
    }
   ],
   "execution_count": 3
  },
  {
   "metadata": {},
   "cell_type": "code",
   "outputs": [],
   "execution_count": null,
   "source": "",
   "id": "143c3ba54d580bcd"
  }
 ],
 "metadata": {
  "kernelspec": {
   "display_name": "Python 3",
   "language": "python",
   "name": "python3"
  },
  "language_info": {
   "codemirror_mode": {
    "name": "ipython",
    "version": 2
   },
   "file_extension": ".py",
   "mimetype": "text/x-python",
   "name": "python",
   "nbconvert_exporter": "python",
   "pygments_lexer": "ipython2",
   "version": "2.7.6"
  }
 },
 "nbformat": 4,
 "nbformat_minor": 5
}
